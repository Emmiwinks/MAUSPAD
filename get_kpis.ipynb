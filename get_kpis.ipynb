{
 "cells": [
  {
   "cell_type": "code",
   "execution_count": 7,
   "metadata": {},
   "outputs": [],
   "source": [
    "import pandas as pd\n",
    "import yfinance as yf\n",
    "import pandas_datareader as web"
   ]
  },
  {
   "attachments": {},
   "cell_type": "markdown",
   "metadata": {},
   "source": [
    "Get different KPIs from list provided by Captain Jang:\n",
    "- Market Cap (Anzahl Aktien * Kurs)\n",
    "- Piotroski F-Score\n",
    "- EV (Enterprise Value)\n",
    "- Kurs\n",
    "- EBITDA (Gewinn vor Steuern, Zinsen und Abschreibungen)\n",
    "- Umsatz (earnings)\n",
    "- Anzahl Aktien (die im Markt verfügbar sind)\n",
    "- Gesamt-Cash (liquide Mittel?)\n",
    "- Gesamt-Schulden (debts?)\n",
    "- Dividende (Prozent!, vielleicht Dividendenwachstum innerhalb von einem Jahr interessant)\n",
    "- Credit Score (Bonität?, eher kein typisches KPI)\n",
    "- Buchwert (Ausgabekurs der Aktie?)\n",
    "- Zinsauffwendungen (interest expenses)\n",
    "- PE (price-earnings ratio)\n",
    "- PEG (price-earnings-growth-ratio, Kurs-Gewinn-Wachstumsverhältnis, vor allem interessant für Wachstumsaktien)"
   ]
  },
  {
   "cell_type": "code",
   "execution_count": 13,
   "metadata": {},
   "outputs": [],
   "source": [
    "stock = \"MSFT\"\n",
    "ticker = yf.Ticker(stock)"
   ]
  },
  {
   "cell_type": "code",
   "execution_count": 14,
   "metadata": {},
   "outputs": [
    {
     "data": {
      "text/plain": [
       "{'market_cap': 1790712872960,\n",
       " 'f_score': None,\n",
       " 'enterprise_value': None,\n",
       " 'price': 240.22,\n",
       " 'ebitda': 98841001984,\n",
       " 'earnings': 203074994176,\n",
       " 'stock_amount': None,\n",
       " 'cash': 107244003328,\n",
       " 'debts': 77136003072,\n",
       " 'last_dividend': 0.68,\n",
       " 'credit_score': None,\n",
       " 'book_value': 23.276,\n",
       " 'interest_expenses': None,\n",
       " 'peg': 1.88}"
      ]
     },
     "execution_count": 14,
     "metadata": {},
     "output_type": "execute_result"
    }
   ],
   "source": [
    "kpis = {\n",
    "    'market_cap': ticker.info['marketCap'],\n",
    "    'f_score': None,\n",
    "    'enterprise_value': None,\n",
    "    'price': ticker.info['currentPrice'],\n",
    "    'ebitda': ticker.info['ebitda'],\n",
    "    'earnings': ticker.info['totalRevenue'],\n",
    "    'stock_amount': ticker.info['totalAssets'],\n",
    "    'cash': ticker.info['totalCash'],\n",
    "    'debts': ticker.info['totalDebt'],\n",
    "    'last_dividend': ticker.info['lastDividendValue'],\n",
    "    'credit_score': None,\n",
    "    'book_value': ticker.info['bookValue'],\n",
    "    'interest_expenses': None,\n",
    "    'peg': ticker.info['pegRatio']\n",
    "}\n",
    "kpis"
   ]
  },
  {
   "cell_type": "code",
   "execution_count": 10,
   "metadata": {},
   "outputs": [
    {
     "data": {
      "text/plain": [
       "dict_keys(['zip', 'sector', 'fullTimeEmployees', 'longBusinessSummary', 'city', 'phone', 'state', 'country', 'companyOfficers', 'website', 'maxAge', 'address1', 'fax', 'industry', 'ebitdaMargins', 'profitMargins', 'grossMargins', 'operatingCashflow', 'revenueGrowth', 'operatingMargins', 'ebitda', 'targetLowPrice', 'recommendationKey', 'grossProfits', 'freeCashflow', 'targetMedianPrice', 'currentPrice', 'earningsGrowth', 'currentRatio', 'returnOnAssets', 'numberOfAnalystOpinions', 'targetMeanPrice', 'debtToEquity', 'returnOnEquity', 'targetHighPrice', 'totalCash', 'totalDebt', 'totalRevenue', 'totalCashPerShare', 'financialCurrency', 'revenuePerShare', 'quickRatio', 'recommendationMean', 'exchange', 'shortName', 'longName', 'exchangeTimezoneName', 'exchangeTimezoneShortName', 'isEsgPopulated', 'gmtOffSetMilliseconds', 'quoteType', 'symbol', 'messageBoardId', 'market', 'annualHoldingsTurnover', 'enterpriseToRevenue', 'beta3Year', 'enterpriseToEbitda', '52WeekChange', 'morningStarRiskRating', 'forwardEps', 'revenueQuarterlyGrowth', 'sharesOutstanding', 'fundInceptionDate', 'annualReportExpenseRatio', 'totalAssets', 'bookValue', 'sharesShort', 'sharesPercentSharesOut', 'fundFamily', 'lastFiscalYearEnd', 'heldPercentInstitutions', 'netIncomeToCommon', 'trailingEps', 'lastDividendValue', 'SandP52WeekChange', 'priceToBook', 'heldPercentInsiders', 'nextFiscalYearEnd', 'yield', 'mostRecentQuarter', 'shortRatio', 'sharesShortPreviousMonthDate', 'floatShares', 'beta', 'enterpriseValue', 'priceHint', 'threeYearAverageReturn', 'lastSplitDate', 'lastSplitFactor', 'legalType', 'lastDividendDate', 'morningStarOverallRating', 'earningsQuarterlyGrowth', 'priceToSalesTrailing12Months', 'dateShortInterest', 'pegRatio', 'ytdReturn', 'forwardPE', 'lastCapGain', 'shortPercentOfFloat', 'sharesShortPriorMonth', 'impliedSharesOutstanding', 'category', 'fiveYearAverageReturn', 'previousClose', 'regularMarketOpen', 'twoHundredDayAverage', 'trailingAnnualDividendYield', 'payoutRatio', 'volume24Hr', 'regularMarketDayHigh', 'navPrice', 'averageDailyVolume10Day', 'regularMarketPreviousClose', 'fiftyDayAverage', 'trailingAnnualDividendRate', 'open', 'toCurrency', 'averageVolume10days', 'expireDate', 'algorithm', 'dividendRate', 'exDividendDate', 'circulatingSupply', 'startDate', 'regularMarketDayLow', 'currency', 'trailingPE', 'regularMarketVolume', 'lastMarket', 'maxSupply', 'openInterest', 'marketCap', 'volumeAllCurrencies', 'strikePrice', 'averageVolume', 'dayLow', 'ask', 'askSize', 'volume', 'fiftyTwoWeekHigh', 'fromCurrency', 'fiveYearAvgDividendYield', 'fiftyTwoWeekLow', 'bid', 'tradeable', 'dividendYield', 'bidSize', 'dayHigh', 'coinMarketCapLink', 'regularMarketPrice', 'preMarketPrice', 'logo_url', 'trailingPegRatio'])"
      ]
     },
     "execution_count": 10,
     "metadata": {},
     "output_type": "execute_result"
    }
   ],
   "source": [
    "ticker.info.keys()"
   ]
  }
 ],
 "metadata": {
  "kernelspec": {
   "display_name": "Python 3",
   "language": "python",
   "name": "python3"
  },
  "language_info": {
   "codemirror_mode": {
    "name": "ipython",
    "version": 3
   },
   "file_extension": ".py",
   "mimetype": "text/x-python",
   "name": "python",
   "nbconvert_exporter": "python",
   "pygments_lexer": "ipython3",
   "version": "3.9.2"
  },
  "orig_nbformat": 4,
  "vscode": {
   "interpreter": {
    "hash": "916dbcbb3f70747c44a77c7bcd40155683ae19c65e1c03b4aa3499c5328201f1"
   }
  }
 },
 "nbformat": 4,
 "nbformat_minor": 2
}
